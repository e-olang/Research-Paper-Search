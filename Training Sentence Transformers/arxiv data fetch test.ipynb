{
 "cells": [
  {
   "cell_type": "code",
   "execution_count": 1,
   "metadata": {},
   "outputs": [],
   "source": [
    "import arxiv\n",
    "import pandas as pd\n",
    "from tqdm import tqdm"
   ]
  },
  {
   "cell_type": "code",
   "execution_count": 2,
   "metadata": {},
   "outputs": [],
   "source": [
    "fileds = [\n",
    "    'informatics',\n",
    "    'technology',\n",
    "    'mathematics',\n",
    "    'physics',\n",
    "    'chemistry',\n",
    "    'biology',\n",
    "    'architecture',\n",
    "    'art',\n",
    "    'philosophy',\n",
    "    'linguistics',\n",
    "]\n",
    "\n",
    "arxiv_fields = [\n",
    "    'Computer',\n",
    "    'Economics',\n",
    "    'Science',\n",
    "    'Mathematics',\n",
    "    'Physics',\n",
    "    'Biology',\n",
    "    'Finance',\n",
    "    'Statistics',\n",
    "    'Technology',\n",
    "]\n"
   ]
  },
  {
   "cell_type": "code",
   "execution_count": 3,
   "metadata": {},
   "outputs": [],
   "source": [
    "def fetch(topic):\n",
    "    search = arxiv.Search(\n",
    "        query=topic,\n",
    "        max_results=1000,\n",
    "        sort_by=arxiv.SortCriterion.SubmittedDate,\n",
    "        sort_order=arxiv.SortOrder.Descending,\n",
    "    )\n",
    "\n",
    "    titles = []\n",
    "    categories = []\n",
    "\n",
    "    for result in tqdm(search.get()):\n",
    "        titles.append(result.title)\n",
    "        categories.append(result.primary_category)\n",
    "\n",
    "    df = pd.DataFrame({'title': titles, 'category': categories})\n",
    "    df.to_csv(f'{topic}.csv', index=False)\n",
    "\n",
    "    print(f'Fetched {len(df)} papers for {topic}.')"
   ]
  },
  {
   "cell_type": "code",
   "execution_count": 4,
   "metadata": {},
   "outputs": [
    {
     "name": "stderr",
     "output_type": "stream",
     "text": [
      "  0%|          | 0/9 [00:00<?, ?it/s]<ipython-input-3-ec318f61f594>:12: DeprecationWarning: The 'get' method is deprecated, use 'results' instead\n",
      "  for result in tqdm(search.get()):\n",
      "1000it [01:33, 10.64it/s]\n",
      " 11%|█         | 1/9 [01:33<12:31, 93.99s/it]"
     ]
    },
    {
     "name": "stdout",
     "output_type": "stream",
     "text": [
      "Fetched 1000 papers for Computer.\n"
     ]
    },
    {
     "name": "stderr",
     "output_type": "stream",
     "text": [
      "1000it [00:44, 22.52it/s]\n",
      " 22%|██▏       | 2/9 [02:18<07:33, 64.83s/it]"
     ]
    },
    {
     "name": "stdout",
     "output_type": "stream",
     "text": [
      "Fetched 1000 papers for Economics.\n"
     ]
    },
    {
     "name": "stderr",
     "output_type": "stream",
     "text": [
      "1000it [00:55, 17.98it/s]\n",
      " 33%|███▎      | 3/9 [03:14<06:03, 60.62s/it]"
     ]
    },
    {
     "name": "stdout",
     "output_type": "stream",
     "text": [
      "Fetched 1000 papers for Science.\n"
     ]
    },
    {
     "name": "stderr",
     "output_type": "stream",
     "text": [
      "1000it [01:00, 16.42it/s]\n",
      " 44%|████▍     | 4/9 [04:14<05:03, 60.74s/it]"
     ]
    },
    {
     "name": "stdout",
     "output_type": "stream",
     "text": [
      "Fetched 1000 papers for Mathematics.\n"
     ]
    },
    {
     "name": "stderr",
     "output_type": "stream",
     "text": [
      "1000it [01:03, 15.75it/s]\n",
      " 56%|█████▌    | 5/9 [05:18<04:06, 61.74s/it]"
     ]
    },
    {
     "name": "stdout",
     "output_type": "stream",
     "text": [
      "Fetched 1000 papers for Physics.\n"
     ]
    },
    {
     "name": "stderr",
     "output_type": "stream",
     "text": [
      "1000it [00:52, 19.12it/s]\n",
      " 67%|██████▋   | 6/9 [06:10<02:55, 58.54s/it]"
     ]
    },
    {
     "name": "stdout",
     "output_type": "stream",
     "text": [
      "Fetched 1000 papers for Biology.\n"
     ]
    },
    {
     "name": "stderr",
     "output_type": "stream",
     "text": [
      "1000it [00:48, 20.47it/s]\n",
      " 78%|███████▊  | 7/9 [06:59<01:50, 55.37s/it]"
     ]
    },
    {
     "name": "stdout",
     "output_type": "stream",
     "text": [
      "Fetched 1000 papers for Finance.\n"
     ]
    },
    {
     "name": "stderr",
     "output_type": "stream",
     "text": [
      "1000it [00:50, 19.83it/s]\n",
      " 89%|████████▉ | 8/9 [07:50<00:53, 53.80s/it]"
     ]
    },
    {
     "name": "stdout",
     "output_type": "stream",
     "text": [
      "Fetched 1000 papers for Statistics.\n"
     ]
    },
    {
     "name": "stderr",
     "output_type": "stream",
     "text": [
      "1000it [00:47, 21.26it/s]\n",
      "100%|██████████| 9/9 [08:37<00:00, 57.46s/it]"
     ]
    },
    {
     "name": "stdout",
     "output_type": "stream",
     "text": [
      "Fetched 1000 papers for Technology.\n"
     ]
    },
    {
     "name": "stderr",
     "output_type": "stream",
     "text": [
      "\n"
     ]
    }
   ],
   "source": [
    "for items in tqdm(arxiv_fields):\n",
    "    fetch(items)"
   ]
  }
 ],
 "metadata": {
  "kernelspec": {
   "display_name": "nlp",
   "language": "python",
   "name": "python3"
  },
  "language_info": {
   "codemirror_mode": {
    "name": "ipython",
    "version": 3
   },
   "file_extension": ".py",
   "mimetype": "text/x-python",
   "name": "python",
   "nbconvert_exporter": "python",
   "pygments_lexer": "ipython3",
   "version": "3.9.12 (main, Jun  1 2022, 06:36:29) \n[Clang 12.0.0 ]"
  },
  "orig_nbformat": 4,
  "vscode": {
   "interpreter": {
    "hash": "4524e0aa81b3ae16e25dcf9b33e91112c133dfc9ef43cc517d5da5b8fe0f3eee"
   }
  }
 },
 "nbformat": 4,
 "nbformat_minor": 2
}
