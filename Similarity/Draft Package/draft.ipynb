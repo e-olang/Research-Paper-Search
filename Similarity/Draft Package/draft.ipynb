{
 "cells": [
  {
   "cell_type": "code",
   "execution_count": 1,
   "metadata": {},
   "outputs": [
    {
     "name": "stderr",
     "output_type": "stream",
     "text": [
      "/Users/olang/opt/miniconda3/envs/nlp2/lib/python3.9/site-packages/tqdm/auto.py:22: TqdmWarning: IProgress not found. Please update jupyter and ipywidgets. See https://ipywidgets.readthedocs.io/en/stable/user_install.html\n",
      "  from .autonotebook import tqdm as notebook_tqdm\n"
     ]
    }
   ],
   "source": [
    "import pickle\n",
    "import numpy as np\n",
    "import faiss\n",
    "from sentence_transformers import SentenceTransformer"
   ]
  },
  {
   "cell_type": "code",
   "execution_count": 2,
   "metadata": {},
   "outputs": [],
   "source": [
    "with open('titles.pkl', 'rb') as f:\n",
    "    titles = pickle.load(f)\n",
    "\n",
    "with open('embeddings.pkl', 'rb') as f:\n",
    "    embeddings = pickle.load(f)\n",
    "\n",
    "titles = np.array(titles)\n",
    "embeddings = np.array(embeddings)"
   ]
  },
  {
   "cell_type": "code",
   "execution_count": 3,
   "metadata": {},
   "outputs": [],
   "source": [
    "# save numpy array as to pickle file\n",
    "with open('titles_np.pkl', 'wb') as f:\n",
    "    pickle.dump(titles, f)\n",
    "\n",
    "with open('embeddings_np.pkl', 'wb') as f:\n",
    "    pickle.dump(embeddings, f)"
   ]
  },
  {
   "cell_type": "code",
   "execution_count": 4,
   "metadata": {},
   "outputs": [],
   "source": [
    "# load numpy array from pickle file\n",
    "with open('titles_np.pkl', 'rb') as f:\n",
    "    titles2 = pickle.load(f)\n",
    "\n",
    "with open('embeddings_np.pkl', 'rb') as f:\n",
    "    embeddings2 = pickle.load(f)"
   ]
  },
  {
   "cell_type": "code",
   "execution_count": 5,
   "metadata": {},
   "outputs": [
    {
     "name": "stdout",
     "output_type": "stream",
     "text": [
      "<class 'numpy.ndarray'>\n",
      "<class 'numpy.ndarray'>\n",
      "<class 'numpy.ndarray'>\n",
      "<class 'numpy.ndarray'>\n"
     ]
    }
   ],
   "source": [
    "print(type(titles))\n",
    "print(type(titles2))\n",
    "\n",
    "print(type(embeddings))\n",
    "print(type(embeddings2))"
   ]
  },
  {
   "cell_type": "code",
   "execution_count": 6,
   "metadata": {},
   "outputs": [],
   "source": [
    "model = SentenceTransformer('sentence-transformers/multi-qa-MiniLM-L6-cos-v1')"
   ]
  },
  {
   "cell_type": "code",
   "execution_count": 7,
   "metadata": {},
   "outputs": [],
   "source": [
    "# save the model to disk as a pickle file\n",
    "filename = 'model.sav'\n",
    "pickle.dump(model, open(filename, 'wb'))\n",
    "\n",
    "# load the model from disk\n",
    "loaded_model = pickle.load(open(filename , 'rb'))"
   ]
  },
  {
   "cell_type": "code",
   "execution_count": 8,
   "metadata": {},
   "outputs": [
    {
     "name": "stdout",
     "output_type": "stream",
     "text": [
      "---------------------------------------------------------------\n",
      "384\n",
      "384\n"
     ]
    }
   ],
   "source": [
    "sample = 'What is the best way to learn Python?'\n",
    "#print(model.encode([sample]))\n",
    "#print(loaded_model.encode([sample]))\n",
    "print('---------------------' * 3)\n",
    "print(len(model.encode([sample])[0]))\n",
    "print(len(loaded_model.encode([sample])[0]))"
   ]
  },
  {
   "cell_type": "markdown",
   "metadata": {},
   "source": [
    "----"
   ]
  },
  {
   "cell_type": "code",
   "execution_count": 9,
   "metadata": {},
   "outputs": [
    {
     "name": "stdout",
     "output_type": "stream",
     "text": [
      "False\n"
     ]
    }
   ],
   "source": [
    "nlist = 50\n",
    "m = 8\n",
    "bits = 8\n",
    "dimensions = embeddings.shape[1]\n",
    "\n",
    "quantizer = faiss.IndexFlatIP(dimensions)\n",
    "index = faiss.IndexIVFPQ(quantizer, dimensions, nlist, m, bits)\n",
    "print(index.is_trained)"
   ]
  },
  {
   "cell_type": "code",
   "execution_count": 10,
   "metadata": {},
   "outputs": [
    {
     "name": "stdout",
     "output_type": "stream",
     "text": [
      "24469\n",
      "True\n"
     ]
    }
   ],
   "source": [
    "index.train(embeddings)\n",
    "index.add(embeddings)\n",
    "print(index.ntotal)\n",
    "print(index.is_trained)"
   ]
  },
  {
   "cell_type": "code",
   "execution_count": 11,
   "metadata": {},
   "outputs": [],
   "source": [
    "# save the index to disk as a pickle file\n",
    "index_filename = 'index.sav'\n",
    "pickle.dump(index, open(index_filename, 'wb'))\n",
    "\n",
    "# load the index from disk\n",
    "loaded_index = pickle.load(open(index_filename , 'rb'))"
   ]
  },
  {
   "cell_type": "code",
   "execution_count": 12,
   "metadata": {},
   "outputs": [
    {
     "name": "stdout",
     "output_type": "stream",
     "text": [
      "[[1.1561999 1.2435786 1.2590462 1.2758831 1.2789359]]\n",
      "CPU times: user 98.7 ms, sys: 32.8 ms, total: 131 ms\n",
      "Wall time: 5.31 s\n"
     ]
    }
   ],
   "source": [
    "%%time\n",
    "k = 5\n",
    "D, I = index.search(model.encode([str(input(\"Enter Query: \"))]), k)\n",
    "print(D)"
   ]
  },
  {
   "cell_type": "code",
   "execution_count": 13,
   "metadata": {},
   "outputs": [
    {
     "name": "stdout",
     "output_type": "stream",
     "text": [
      "[[18425  6877   300  1681 11051]]\n"
     ]
    }
   ],
   "source": [
    "print(I)"
   ]
  },
  {
   "cell_type": "code",
   "execution_count": 14,
   "metadata": {},
   "outputs": [
    {
     "data": {
      "text/plain": [
       "['18425: Real Computational Universality: The Word Problem for a Class of Groups with Infinite Presentation.',\n",
       " '6877: A Cooperative Approach to the Development of Expert Knowledge Bases Applied to Define Standard of Care in Glaucoma.',\n",
       " '300: Lifelong Forgetting: A Critical Ingredient of Lifelong Learning, and Its Implementation in the OpenCog Integrative AI Framework.',\n",
       " '1681: Combining EM Training and the MDL Principle for an Automatic Verb Classification Incorporating Selectional Preferences.',\n",
       " '11051: Group Sparsity and Geometry Constrained Dictionary Learning for Action Recognition from Depth Maps.']"
      ]
     },
     "execution_count": 14,
     "metadata": {},
     "output_type": "execute_result"
    }
   ],
   "source": [
    "[f'{i}: {titles[i]}' for i in I[0]]"
   ]
  },
  {
   "cell_type": "code",
   "execution_count": 15,
   "metadata": {},
   "outputs": [
    {
     "data": {
      "text/plain": [
       "['Learning Where You Are Going and from Whence You Came: h- and g-Cost Learning in Real-Time Heuristic Search.',\n",
       " 'Learning by Reading: A Prototype System, Performance Baseline and Lessons Learned.',\n",
       " 'Integrating learning objects into an open learning environment: evaluation of learning processes in an informatics learning lab.',\n",
       " 'Typing Tutor: Individualized Tutoring in Text Entry for Older Adults Based on Input Stumble Detection.',\n",
       " 'Analogy Tutor: A Tutoring System for Promoting Conceptual Learning via Comparison.']"
      ]
     },
     "execution_count": 15,
     "metadata": {},
     "output_type": "execute_result"
    }
   ],
   "source": [
    "# sample function to get the top k similar documents, with default k=5\n",
    "def get_similar_documents(query, index, model, titles, k=5):\n",
    "    D, I = index.search(model.encode([query]), k)\n",
    "    return [titles[i] for i in I[0]]\n",
    "\n",
    "get_similar_documents('What is the best way to learn Python?', loaded_index, loaded_model, titles)"
   ]
  },
  {
   "cell_type": "code",
   "execution_count": 16,
   "metadata": {},
   "outputs": [],
   "source": [
    "def get_similar_documents(query, index, model, titles, k=5):\n",
    "    D, I = index.search(model.encode([query]), k)\n",
    "    for i in I:\n",
    "        print(titles[i])"
   ]
  },
  {
   "cell_type": "code",
   "execution_count": 17,
   "metadata": {},
   "outputs": [
    {
     "name": "stdout",
     "output_type": "stream",
     "text": [
      "['Learning Where You Are Going and from Whence You Came: h- and g-Cost Learning in Real-Time Heuristic Search.'\n",
      " 'Learning by Reading: A Prototype System, Performance Baseline and Lessons Learned.'\n",
      " 'Integrating learning objects into an open learning environment: evaluation of learning processes in an informatics learning lab.'\n",
      " 'Typing Tutor: Individualized Tutoring in Text Entry for Older Adults Based on Input Stumble Detection.'\n",
      " 'Analogy Tutor: A Tutoring System for Promoting Conceptual Learning via Comparison.']\n"
     ]
    }
   ],
   "source": [
    "get_similar_documents('What is the best way to learn Python?', index, model, titles)"
   ]
  },
  {
   "cell_type": "markdown",
   "metadata": {},
   "source": [
    "----"
   ]
  },
  {
   "cell_type": "code",
   "execution_count": null,
   "metadata": {},
   "outputs": [],
   "source": [
    "%ls"
   ]
  },
  {
   "cell_type": "code",
   "execution_count": 20,
   "metadata": {},
   "outputs": [
    {
     "name": "stdout",
     "output_type": "stream",
     "text": [
      "['Learning Where You Are Going and from Whence You Came: h- and g-Cost Learning in Real-Time Heuristic Search.'\n",
      " 'Learning by Reading: A Prototype System, Performance Baseline and Lessons Learned.'\n",
      " 'Integrating learning objects into an open learning environment: evaluation of learning processes in an informatics learning lab.'\n",
      " 'Typing Tutor: Individualized Tutoring in Text Entry for Older Adults Based on Input Stumble Detection.'\n",
      " 'Analogy Tutor: A Tutoring System for Promoting Conceptual Learning via Comparison.']\n"
     ]
    }
   ],
   "source": [
    "import pickle\n",
    "\n",
    "\n",
    "# load numpy arrays from pickle file\n",
    "with open('titles_np.pkl', 'rb') as f:\n",
    "    titles = pickle.load(f)\n",
    "\n",
    "'''with open('embeddings_np.pkl', 'rb') as f:\n",
    "    embeddings = pickle.load(f)'''\n",
    "\n",
    "# load the model\n",
    "model = pickle.load(open('model.sav' , 'rb'))\n",
    "\n",
    "# load the index from disk\n",
    "index = pickle.load(open('index.sav' , 'rb'))\n",
    "\n",
    "def get_embeddings(query):\n",
    "    xq = model.encode([query])\n",
    "    return xq\n",
    "\n",
    "\n",
    "def get_similar_documents(query, index, model, titles, k=5):\n",
    "    xq = get_embeddings(str(query))\n",
    "    D, I = index.search(xq, k)\n",
    "    for i in I:\n",
    "        print(titles[i])\n",
    "\n",
    "get_similar_documents('What is the best way to learn Python?', index, model, titles)"
   ]
  },
  {
   "cell_type": "code",
   "execution_count": 34,
   "metadata": {},
   "outputs": [
    {
     "name": "stdout",
     "output_type": "stream",
     "text": [
      "CPU times: user 55 ms, sys: 3.07 ms, total: 58.1 ms\n",
      "Wall time: 10.5 ms\n"
     ]
    },
    {
     "data": {
      "text/plain": [
       "array([[-1.30599383e-02,  7.69109130e-02, -4.65829298e-02,\n",
       "         5.90131655e-02, -1.74251534e-02, -7.36337155e-02,\n",
       "        -1.36674028e-02,  8.72032419e-02, -5.11746816e-02,\n",
       "        -1.14701046e-02, -2.70780846e-02,  3.07676792e-02,\n",
       "         3.35227349e-03,  5.62819839e-02,  1.10859163e-02,\n",
       "        -4.18557227e-02, -6.67836964e-02,  5.97557090e-02,\n",
       "         1.02283970e-01, -9.56052393e-02, -8.14230144e-02,\n",
       "        -9.38170217e-03,  6.73061376e-03,  3.69466469e-02,\n",
       "         2.30291598e-02,  3.90121825e-02,  1.69627238e-02,\n",
       "         2.60770451e-02, -1.36164725e-02,  2.50635557e-02,\n",
       "        -2.20350865e-02,  2.16441844e-02,  2.23011486e-02,\n",
       "        -2.23823488e-02, -2.62794122e-02,  4.24289927e-02,\n",
       "        -1.42241188e-03, -7.57117420e-02,  3.03730555e-02,\n",
       "         8.28997418e-03, -1.30727030e-02,  5.49051464e-02,\n",
       "        -3.21871415e-02, -3.58182304e-02,  9.51474011e-02,\n",
       "         1.93813872e-02,  2.89439969e-02,  5.97866662e-02,\n",
       "         9.53251794e-02, -5.92043288e-02, -7.78268203e-02,\n",
       "         3.91702168e-02, -7.31809288e-02, -5.23790345e-02,\n",
       "         3.97946984e-02,  2.59518903e-02,  2.25594770e-02,\n",
       "        -8.51802435e-03, -3.52355167e-02, -7.07112402e-02,\n",
       "        -3.91783901e-02,  3.00337817e-03, -3.19970511e-02,\n",
       "         6.98226541e-02, -8.37742090e-02,  1.53370274e-04,\n",
       "         3.33078764e-02,  8.81562531e-02,  8.52513537e-02,\n",
       "        -1.83732547e-02, -4.80143428e-02, -4.47756313e-02,\n",
       "         9.46704950e-03,  2.21207105e-02,  5.50383665e-02,\n",
       "        -5.71236908e-02,  4.40421104e-02, -5.03869839e-02,\n",
       "        -4.14110869e-02,  3.31998952e-02, -3.45171094e-02,\n",
       "        -3.92985865e-02,  1.04395403e-02,  5.58780916e-02,\n",
       "         4.59110625e-02, -2.93873437e-02,  8.21964815e-03,\n",
       "         8.23857039e-02, -3.04241925e-02,  6.38613617e-03,\n",
       "         6.73950538e-02, -1.66964903e-02, -7.93059692e-02,\n",
       "         1.29538989e-02, -1.90998204e-02,  7.23501295e-02,\n",
       "         6.17370494e-02, -5.93355373e-02, -7.53311142e-02,\n",
       "         4.06532250e-02,  9.88525804e-03, -6.10253960e-02,\n",
       "         3.13750803e-02, -4.38800305e-02,  9.29904208e-02,\n",
       "         3.10521349e-02,  8.77823979e-02, -8.67817625e-02,\n",
       "         6.87599778e-02, -2.06694845e-02, -2.96984650e-02,\n",
       "        -4.15570326e-02,  5.11282217e-03,  3.79457958e-02,\n",
       "         7.19296858e-02,  2.11529108e-03, -6.98168799e-02,\n",
       "         2.10139230e-02,  6.69329315e-02,  1.50849253e-01,\n",
       "        -5.34366863e-03,  3.12443804e-02,  5.91825023e-02,\n",
       "        -1.44032519e-02, -1.39781516e-02, -4.36893851e-02,\n",
       "         2.38780491e-02,  5.77285135e-31, -2.35920791e-02,\n",
       "        -7.12882355e-03,  2.25543994e-02,  6.51349798e-02,\n",
       "         3.81711638e-03,  3.77653167e-02,  1.82523802e-02,\n",
       "        -2.34255027e-02, -3.35890613e-02,  6.31399034e-03,\n",
       "        -2.15884838e-02,  6.31434768e-02,  5.28699532e-03,\n",
       "        -3.72110808e-04, -1.30983908e-02, -4.06022966e-02,\n",
       "        -1.04426615e-01,  2.53683031e-02, -3.55796963e-02,\n",
       "         6.14757799e-02,  6.31789714e-02, -5.12522347e-02,\n",
       "         2.94151586e-02, -3.21059451e-02,  9.61076468e-03,\n",
       "        -9.33864191e-02, -1.85236111e-02, -1.79596152e-02,\n",
       "         2.26365924e-02,  3.97379219e-04, -8.02666321e-03,\n",
       "        -5.89751303e-02, -8.80762637e-02,  6.42904721e-04,\n",
       "        -3.94267924e-02, -5.03039397e-02, -4.91970778e-02,\n",
       "        -4.80575971e-02,  9.07496214e-02, -6.14536218e-02,\n",
       "        -3.05858608e-02,  1.13739129e-02,  6.29753545e-02,\n",
       "        -8.64557251e-02,  5.05354740e-02,  7.37780780e-02,\n",
       "        -1.97802559e-02,  1.87549870e-02, -6.67949468e-02,\n",
       "        -1.17396358e-02,  3.44627388e-02, -1.19564645e-01,\n",
       "         2.07000389e-03,  8.46104417e-03, -5.50132394e-02,\n",
       "         5.18813590e-03,  4.47622202e-02,  2.54142825e-02,\n",
       "         1.36253536e-02, -4.11988609e-02,  6.05946556e-02,\n",
       "         1.82750188e-02,  7.70246387e-02,  3.75969559e-02,\n",
       "        -1.78215560e-02, -2.46199546e-03, -2.87814233e-02,\n",
       "         1.12698391e-01,  3.25230174e-02, -1.47940787e-02,\n",
       "        -9.10648704e-02,  2.57627182e-02, -2.41524726e-02,\n",
       "        -6.35330752e-02,  7.51266303e-03,  2.83094849e-02,\n",
       "         5.05465269e-03, -3.51934433e-02, -4.06461284e-02,\n",
       "         5.91183119e-02,  3.92361395e-02, -4.11755219e-02,\n",
       "        -2.03232542e-02, -1.62609182e-02, -3.42227966e-02,\n",
       "         3.97653095e-02,  1.65619794e-02,  1.42824771e-02,\n",
       "         6.35246187e-02, -1.36360703e-02, -1.16430424e-01,\n",
       "        -6.12324588e-02,  1.81801971e-02, -4.32288349e-02,\n",
       "        -1.68951415e-02, -2.14406368e-33,  1.57332362e-03,\n",
       "         7.52580538e-02,  5.47133796e-02,  4.32491340e-02,\n",
       "        -2.13639084e-02, -6.37133420e-02,  6.66546673e-02,\n",
       "         2.12439336e-02,  6.70593828e-02, -1.72577146e-02,\n",
       "        -8.70685279e-02, -7.30094209e-04, -1.34150393e-03,\n",
       "         7.19562359e-03,  7.76655599e-02, -1.37437414e-02,\n",
       "        -3.39030027e-02,  6.41875193e-02,  2.91901585e-02,\n",
       "        -2.30107438e-02, -1.36441112e-01,  1.86384395e-02,\n",
       "        -8.83602500e-02, -8.31924602e-02,  1.71534456e-02,\n",
       "        -1.78315975e-02,  2.56410474e-03, -2.19000559e-02,\n",
       "        -3.07800379e-02,  9.36197676e-03,  2.15744395e-02,\n",
       "         5.84033132e-02, -5.58734918e-03,  5.67868389e-02,\n",
       "        -1.24998204e-03,  7.03632683e-02, -4.76898849e-02,\n",
       "        -1.04275509e-03, -8.98229016e-04,  2.53949966e-02,\n",
       "         7.31422007e-02,  7.38412887e-02,  1.33270649e-02,\n",
       "         1.63319185e-02,  2.33756676e-02,  6.19373843e-03,\n",
       "        -1.88769270e-02,  3.45792286e-02, -4.39433157e-02,\n",
       "         1.93214901e-02,  3.60062681e-02, -2.48023514e-02,\n",
       "         1.92173645e-02, -7.94448238e-03,  1.29284896e-02,\n",
       "        -6.67292178e-02,  8.38827863e-02,  8.46997425e-02,\n",
       "        -4.63223793e-02,  1.42001687e-02, -8.80783424e-02,\n",
       "        -4.43670154e-02, -4.58971709e-02,  6.07659481e-02,\n",
       "        -1.10398300e-01,  3.44587341e-02, -1.65030956e-01,\n",
       "         5.94834648e-02, -3.09509803e-02, -5.57480268e-02,\n",
       "         2.20784871e-03,  4.94655780e-02,  7.38336816e-02,\n",
       "        -1.03000872e-01, -3.84448729e-02,  7.97162130e-02,\n",
       "        -3.83775495e-02,  7.84289092e-03, -9.14004669e-02,\n",
       "        -4.85750707e-03, -2.05165954e-04, -6.00012019e-02,\n",
       "        -8.65946710e-02,  5.69347776e-02, -1.55841082e-01,\n",
       "         6.42785430e-02,  8.21921136e-03, -3.89324240e-02,\n",
       "         6.20575696e-02, -3.47371325e-02,  8.89786519e-03,\n",
       "        -2.14917446e-03,  5.63947298e-02,  2.33779438e-02,\n",
       "         4.10388894e-02, -4.91836755e-33, -8.87280852e-02,\n",
       "         1.33988112e-02,  1.00500695e-01,  3.12162880e-02,\n",
       "        -8.46391195e-04,  1.62770167e-01, -2.92631648e-02,\n",
       "         8.09183121e-02,  2.34505907e-03, -1.77186243e-02,\n",
       "        -8.29688758e-02, -3.74871306e-02, -3.85292135e-02,\n",
       "        -1.00779487e-02,  1.84567012e-02,  1.11771509e-01,\n",
       "         8.02428499e-02,  1.59753561e-02,  4.68457006e-02,\n",
       "         4.30404022e-02,  3.02290674e-02, -3.52816172e-02,\n",
       "         5.75429527e-03,  3.06407213e-02, -2.89833290e-03,\n",
       "        -8.28988627e-02,  9.06939059e-02,  5.48185892e-02,\n",
       "        -1.38949230e-02, -3.68112847e-02, -3.94180156e-02,\n",
       "        -4.09937948e-02, -4.23857346e-02,  2.97895167e-02,\n",
       "         4.96207327e-02, -1.14012072e-02, -1.97363850e-02,\n",
       "         9.60126147e-03,  2.83841062e-02,  4.06139120e-02,\n",
       "        -7.93759301e-02,  6.01074211e-02, -4.08100672e-02,\n",
       "        -2.78057847e-02,  1.07305683e-02,  1.95819568e-02,\n",
       "         3.22776958e-02, -3.64981070e-02, -3.23356986e-02,\n",
       "        -2.85925791e-02,  4.34788801e-02,  7.50290835e-03,\n",
       "        -2.92182248e-02,  1.02981096e-02,  5.99811003e-02,\n",
       "         9.23369452e-02, -5.63872196e-02, -2.81071998e-02,\n",
       "        -8.24849382e-02, -2.94634869e-04,  6.47583697e-03,\n",
       "         7.76268765e-02,  6.35387152e-02,  9.28466767e-03]], dtype=float32)"
      ]
     },
     "execution_count": 34,
     "metadata": {},
     "output_type": "execute_result"
    }
   ],
   "source": [
    "%%time\n",
    "def get_embeddings(query):\n",
    "    xq = model.encode([query])\n",
    "    return xq\n",
    "\n",
    "\n",
    "get_embeddings('What is the best way to learn Python?')"
   ]
  },
  {
   "cell_type": "markdown",
   "metadata": {},
   "source": [
    "----"
   ]
  },
  {
   "cell_type": "code",
   "execution_count": 36,
   "metadata": {},
   "outputs": [
    {
     "name": "stdout",
     "output_type": "stream",
     "text": [
      "SentenceTransformer(\n",
      "  (0): Transformer({'max_seq_length': 512, 'do_lower_case': False}) with Transformer model: BertModel \n",
      "  (1): Pooling({'word_embedding_dimension': 384, 'pooling_mode_cls_token': False, 'pooling_mode_mean_tokens': True, 'pooling_mode_max_tokens': False, 'pooling_mode_mean_sqrt_len_tokens': False})\n",
      "  (2): Normalize()\n",
      ")\n"
     ]
    }
   ],
   "source": [
    "from sentence_transformers import SentenceTransformer\n",
    "\n",
    "\n",
    "model = SentenceTransformer('sentence-transformers/multi-qa-MiniLM-L6-cos-v1')\n",
    "#xq = model.encode('How to get started with Python?')\n",
    "\n",
    "print(model)"
   ]
  }
 ],
 "metadata": {
  "kernelspec": {
   "display_name": "Python 3.9.15 ('nlp2')",
   "language": "python",
   "name": "python3"
  },
  "language_info": {
   "codemirror_mode": {
    "name": "ipython",
    "version": 3
   },
   "file_extension": ".py",
   "mimetype": "text/x-python",
   "name": "python",
   "nbconvert_exporter": "python",
   "pygments_lexer": "ipython3",
   "version": "3.9.15"
  },
  "orig_nbformat": 4,
  "vscode": {
   "interpreter": {
    "hash": "de0418247aeb08df2ea2d5734942c78ab984fbe3b3f3f72be79ab567e5570bb6"
   }
  }
 },
 "nbformat": 4,
 "nbformat_minor": 2
}
