{
 "cells": [
  {
   "cell_type": "code",
   "execution_count": 1,
   "metadata": {},
   "outputs": [],
   "source": [
    "import pickle\n",
    "\n",
    "with open('titles.pkl', 'rb') as f:\n",
    "    titles = pickle.load(f)\n",
    "\n",
    "with open('embeddings.pkl', 'rb') as f:\n",
    "    embeddings = pickle.load(f)\n",
    "\n",
    "\n",
    "#print(type(titles))\n",
    "#print(type(embeddings))"
   ]
  },
  {
   "cell_type": "code",
   "execution_count": 2,
   "metadata": {},
   "outputs": [
    {
     "name": "stdout",
     "output_type": "stream",
     "text": [
      "(24469, 384)\n"
     ]
    }
   ],
   "source": [
    "# convert to numpy array\n",
    "import numpy as np\n",
    "\n",
    "titles = np.array(titles)\n",
    "embeddings = np.array(embeddings)\n",
    "\n",
    "print(embeddings.shape)"
   ]
  },
  {
   "cell_type": "code",
   "execution_count": 3,
   "metadata": {},
   "outputs": [],
   "source": [
    "dimension = embeddings.shape[1]\n",
    "\n",
    "import faiss\n",
    "\n",
    "# build index\n",
    "index = faiss.IndexFlatL2(dimension)\n",
    "# change the above to IndexFlatL2 for euclidean distance, or IndexFlatIP for cosine similarity"
   ]
  },
  {
   "cell_type": "code",
   "execution_count": 4,
   "metadata": {},
   "outputs": [
    {
     "data": {
      "text/plain": [
       "True"
      ]
     },
     "execution_count": 4,
     "metadata": {},
     "output_type": "execute_result"
    }
   ],
   "source": [
    "index.is_trained"
   ]
  },
  {
   "cell_type": "code",
   "execution_count": 5,
   "metadata": {},
   "outputs": [],
   "source": [
    "index.add(embeddings)"
   ]
  },
  {
   "cell_type": "code",
   "execution_count": 6,
   "metadata": {},
   "outputs": [
    {
     "data": {
      "text/plain": [
       "24469"
      ]
     },
     "execution_count": 6,
     "metadata": {},
     "output_type": "execute_result"
    }
   ],
   "source": [
    "index.ntotal"
   ]
  },
  {
   "cell_type": "code",
   "execution_count": 7,
   "metadata": {},
   "outputs": [
    {
     "name": "stderr",
     "output_type": "stream",
     "text": [
      "/Users/olang/opt/miniconda3/envs/nlp2/lib/python3.9/site-packages/tqdm/auto.py:22: TqdmWarning: IProgress not found. Please update jupyter and ipywidgets. See https://ipywidgets.readthedocs.io/en/stable/user_install.html\n",
      "  from .autonotebook import tqdm as notebook_tqdm\n"
     ]
    }
   ],
   "source": [
    "from sentence_transformers import SentenceTransformer\n",
    "model = SentenceTransformer('sentence-transformers/multi-qa-MiniLM-L6-cos-v1')"
   ]
  },
  {
   "cell_type": "code",
   "execution_count": 8,
   "metadata": {},
   "outputs": [],
   "source": [
    "xq = model.encode(['What is Deep Learning?'])"
   ]
  },
  {
   "cell_type": "code",
   "execution_count": 11,
   "metadata": {},
   "outputs": [
    {
     "name": "stdout",
     "output_type": "stream",
     "text": [
      "[[  716 17606  1648 14341 19145]]\n",
      "CPU times: user 4.55 ms, sys: 1.21 ms, total: 5.76 ms\n",
      "Wall time: 3.74 ms\n"
     ]
    }
   ],
   "source": [
    "%%time\n",
    "D, I = index.search(xq, k=5)        # k is the number of results i.e. similar documents/vectors, D is the distance and I is the index of the document\n",
    "print(I)"
   ]
  },
  {
   "cell_type": "code",
   "execution_count": 12,
   "metadata": {},
   "outputs": [
    {
     "data": {
      "text/plain": [
       "['716: DeepTutor: An Effective, Online Intelligent Tutoring System That Promotes Deep Learning.',\n",
       " '17606: Learning to Learn and Compositionality with Deep Recurrent Neural Networks: Learning to Learn and Compositionality.',\n",
       " '1648: Domain Specific Named Entity Recognition Referring to the Real World by Deep Neural Networks.',\n",
       " '14341: Dual-Memory Deep Learning Architectures for Lifelong Learning of Everyday Human Behaviors.',\n",
       " '19145: Project Adam: Building an Efficient and Scalable Deep Learning Training System.']"
      ]
     },
     "execution_count": 12,
     "metadata": {},
     "output_type": "execute_result"
    }
   ],
   "source": [
    "[f'{i}: {titles[i]}' for i in I[0]]"
   ]
  },
  {
   "cell_type": "code",
   "execution_count": 13,
   "metadata": {},
   "outputs": [
    {
     "data": {
      "text/plain": [
       "['DeepTutor: An Effective, Online Intelligent Tutoring System That Promotes Deep Learning.: 0.7949270009994507',\n",
       " 'Learning to Learn and Compositionality with Deep Recurrent Neural Networks: Learning to Learn and Compositionality.: 0.9066382646560669',\n",
       " 'Domain Specific Named Entity Recognition Referring to the Real World by Deep Neural Networks.: 0.9732757806777954',\n",
       " 'Dual-Memory Deep Learning Architectures for Lifelong Learning of Everyday Human Behaviors.: 0.9826789498329163',\n",
       " 'Project Adam: Building an Efficient and Scalable Deep Learning Training System.: 0.9842374324798584']"
      ]
     },
     "execution_count": 13,
     "metadata": {},
     "output_type": "execute_result"
    }
   ],
   "source": [
    "[f'{titles[i]}: {D[0][j]}' for j, i in enumerate(I[0])]"
   ]
  },
  {
   "cell_type": "markdown",
   "metadata": {},
   "source": [
    "-----"
   ]
  },
  {
   "cell_type": "markdown",
   "metadata": {},
   "source": [
    "Voronoi Cells"
   ]
  },
  {
   "cell_type": "code",
   "execution_count": 14,
   "metadata": {},
   "outputs": [],
   "source": [
    "nlist = 50\n",
    "quantizer = faiss.IndexFlatL2(dimension)\n",
    "index = faiss.IndexIVFFlat(quantizer, dimension, nlist)"
   ]
  },
  {
   "cell_type": "code",
   "execution_count": 15,
   "metadata": {},
   "outputs": [
    {
     "data": {
      "text/plain": [
       "False"
      ]
     },
     "execution_count": 15,
     "metadata": {},
     "output_type": "execute_result"
    }
   ],
   "source": [
    "index.is_trained"
   ]
  },
  {
   "cell_type": "code",
   "execution_count": 16,
   "metadata": {},
   "outputs": [],
   "source": [
    "index.train(embeddings)"
   ]
  },
  {
   "cell_type": "code",
   "execution_count": 17,
   "metadata": {},
   "outputs": [
    {
     "data": {
      "text/plain": [
       "True"
      ]
     },
     "execution_count": 17,
     "metadata": {},
     "output_type": "execute_result"
    }
   ],
   "source": [
    "index.is_trained"
   ]
  },
  {
   "cell_type": "code",
   "execution_count": 18,
   "metadata": {},
   "outputs": [
    {
     "data": {
      "text/plain": [
       "24469"
      ]
     },
     "execution_count": 18,
     "metadata": {},
     "output_type": "execute_result"
    }
   ],
   "source": [
    "index.add(embeddings)\n",
    "index.ntotal"
   ]
  },
  {
   "cell_type": "code",
   "execution_count": 19,
   "metadata": {},
   "outputs": [
    {
     "name": "stdout",
     "output_type": "stream",
     "text": [
      "[[  716 17606  1648 14341 19145]]\n",
      "CPU times: user 701 µs, sys: 326 µs, total: 1.03 ms\n",
      "Wall time: 757 µs\n"
     ]
    }
   ],
   "source": [
    "%%time\n",
    "D, I = index.search(xq, k=5)\n",
    "print(I)"
   ]
  },
  {
   "cell_type": "code",
   "execution_count": 21,
   "metadata": {},
   "outputs": [],
   "source": [
    "# test with some probing, this increases the accuracy of the search by looking through more centroids (from the venoroi cells)\n",
    "index.nprobe = 10"
   ]
  },
  {
   "cell_type": "code",
   "execution_count": 22,
   "metadata": {},
   "outputs": [
    {
     "name": "stdout",
     "output_type": "stream",
     "text": [
      "[[  716 17606  1648 14341 19145]]\n",
      "CPU times: user 1.64 ms, sys: 847 µs, total: 2.49 ms\n",
      "Wall time: 1.23 ms\n"
     ]
    }
   ],
   "source": [
    "%%time\n",
    "D, I = index.search(xq, k=5)\n",
    "print(I)a"
   ]
  },
  {
   "cell_type": "markdown",
   "metadata": {},
   "source": [
    "----"
   ]
  },
  {
   "cell_type": "code",
   "execution_count": 26,
   "metadata": {},
   "outputs": [
    {
     "data": {
      "text/plain": [
       "0"
      ]
     },
     "execution_count": 26,
     "metadata": {},
     "output_type": "execute_result"
    }
   ],
   "source": [
    "dimension % 8"
   ]
  },
  {
   "cell_type": "code",
   "execution_count": 27,
   "metadata": {},
   "outputs": [
    {
     "data": {
      "text/plain": [
       "False"
      ]
     },
     "execution_count": 27,
     "metadata": {},
     "output_type": "execute_result"
    }
   ],
   "source": [
    "m = 8\n",
    "bits = 8\n",
    "\n",
    "quantizer = faiss.IndexFlatL2(dimension)\n",
    "index = faiss.IndexIVFPQ(quantizer, dimension, nlist, m, bits)\n",
    "\n",
    "index.is_trained"
   ]
  },
  {
   "cell_type": "code",
   "execution_count": 28,
   "metadata": {},
   "outputs": [],
   "source": [
    "index.train(embeddings)"
   ]
  },
  {
   "cell_type": "code",
   "execution_count": 29,
   "metadata": {},
   "outputs": [],
   "source": [
    "index.add(embeddings)"
   ]
  },
  {
   "cell_type": "code",
   "execution_count": 30,
   "metadata": {},
   "outputs": [
    {
     "name": "stdout",
     "output_type": "stream",
     "text": [
      "[[19145   716 17606   546 11544]]\n",
      "CPU times: user 725 µs, sys: 213 µs, total: 938 µs\n",
      "Wall time: 768 µs\n"
     ]
    }
   ],
   "source": [
    "%%time\n",
    "D, I = index.search(xq, k=5)\n",
    "print(I)"
   ]
  },
  {
   "cell_type": "code",
   "execution_count": 31,
   "metadata": {},
   "outputs": [
    {
     "data": {
      "text/plain": [
       "['19145: Project Adam: Building an Efficient and Scalable Deep Learning Training System.',\n",
       " '716: DeepTutor: An Effective, Online Intelligent Tutoring System That Promotes Deep Learning.',\n",
       " '17606: Learning to Learn and Compositionality with Deep Recurrent Neural Networks: Learning to Learn and Compositionality.',\n",
       " '546: Learning When to Switch between Skills in a High Dimensional Domain.',\n",
       " '11544: Learning abstract snippet detectors with Temporal embedding in convolutional neural Networks.']"
      ]
     },
     "execution_count": 31,
     "metadata": {},
     "output_type": "execute_result"
    }
   ],
   "source": [
    "[f'{i}: {titles[i]}' for i in I[0]]"
   ]
  }
 ],
 "metadata": {
  "kernelspec": {
   "display_name": "Python 3.9.12 ('nlp')",
   "language": "python",
   "name": "python3"
  },
  "language_info": {
   "codemirror_mode": {
    "name": "ipython",
    "version": 3
   },
   "file_extension": ".py",
   "mimetype": "text/x-python",
   "name": "python",
   "nbconvert_exporter": "python",
   "pygments_lexer": "ipython3",
   "version": "3.9.12"
  },
  "orig_nbformat": 4,
  "vscode": {
   "interpreter": {
    "hash": "4524e0aa81b3ae16e25dcf9b33e91112c133dfc9ef43cc517d5da5b8fe0f3eee"
   }
  }
 },
 "nbformat": 4,
 "nbformat_minor": 2
}
