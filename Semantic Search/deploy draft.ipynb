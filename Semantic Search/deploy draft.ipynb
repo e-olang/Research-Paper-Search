{
 "cells": [
  {
   "cell_type": "code",
   "execution_count": 1,
   "metadata": {},
   "outputs": [],
   "source": [
    "import pickle\n",
    "import numpy as np\n",
    "import json\n",
    "from sentence_transformers import SentenceTransformer\n",
    "\n",
    "import warnings\n",
    "warnings.filterwarnings('ignore')\n"
   ]
  },
  {
   "cell_type": "code",
   "execution_count": 10,
   "metadata": {},
   "outputs": [],
   "source": [
    "with open('Files/titles.pkl', 'rb') as f:\n",
    "    titles = pickle.load(f)\n",
    "\n",
    "with open('Files/embeddings.pkl', 'rb') as f:\n",
    "    embeddings = pickle.load(f)\n",
    "\n",
    "with open('Files/authors.pkl', 'rb') as f:\n",
    "    authors = pickle.load(f)\n",
    "\n",
    "with open('Files/years.pkl', 'rb') as f:\n",
    "    years = pickle.load(f)\n",
    "\n",
    "with open('Files/summary.pkl', 'rb') as f:\n",
    "    summary = pickle.load(f)\n",
    "\n",
    "index = pickle.load(open('Files/index.sav' , 'rb'))\n",
    "\n",
    "#model = pickle.load(open('Files/model.sav' , 'rb'))\n",
    "model = SentenceTransformer('sentence-transformers/multi-qa-MiniLM-L6-cos-v1')"
   ]
  },
  {
   "cell_type": "code",
   "execution_count": 3,
   "metadata": {},
   "outputs": [],
   "source": [
    "# simple query to return the first 5 similar documents (Titles, Authors, Years, Summary)\n",
    "\n",
    "def retrieve(query, k=5):\n",
    "    xq = model.encode([query])\n",
    "    D, I = index.search(xq, k)\n",
    "\n",
    "    results = []\n",
    "    for i in range(k):\n",
    "        results.append(\n",
    "            { \n",
    "                'Title': titles[I[0][i]],\n",
    "                'Author': authors[I[0][i]],\n",
    "                'Year': years[I[0][i]],\n",
    "                'Summary': summary[I[0][i]]\n",
    "            }\n",
    "        )\n",
    "\n",
    "    return results"
   ]
  },
  {
   "cell_type": "code",
   "execution_count": 8,
   "metadata": {},
   "outputs": [
    {
     "name": "stdout",
     "output_type": "stream",
     "text": [
      "[[ 7128 26927 11648  4854  9998]]\n",
      "[[0.9771748 0.9900106 1.0068038 1.0124968 1.0243872]]\n"
     ]
    }
   ],
   "source": [
    "search = 'What is the best way to learn Python?'\n",
    "xq = model.encode([search])\n",
    "D, I = index.search(xq, 5)\n",
    "\n",
    "print(I)\n",
    "print(D)"
   ]
  },
  {
   "cell_type": "code",
   "execution_count": 15,
   "metadata": {},
   "outputs": [
    {
     "name": "stdout",
     "output_type": "stream",
     "text": [
      "['Minecraft: An Engaging Platform to Learn Programming', 'Improving Learning from Demonstrations by Learning from Experience', 'Pen and Paper Exercises in Machine Learning', 'The Physics of Learning', 'Discover Life Skills for Planning with Bandits via Observing and\\n  Learning How the World Works']\n",
      "['Worasait Suwannik', 'Marcelo H Ang Jr', 'Michael U. Gutmann', 'Sahar Basiri-Esfahani', 'Tin Lai']\n",
      "[2022, 2021, 2022, 2022, 2022]\n",
      "['Teaching programming effectively is difficult. This paper explores the\\nbenefits of using Minecraft Education Edition to teach Python programming.\\nEducators can use the game to teach various programming concepts ranging from\\nfundamental programming concepts, object-oriented programming, event-driven\\nprogramming, and parallel programming. It has several benefits, including being\\nhighly engaging, sharpen creativity and problem-solving skill, motivating the\\nstudy of mathematics, and making students realizes the importance of\\nprogramming.', 'How to make imitation learning more general when demonstrations are\\nrelatively limited has been a persistent problem in reinforcement learning\\n(RL). Poor demonstrations lead to narrow and biased date distribution,\\nnon-Markovian human expert demonstration makes it difficult for the agent to\\nlearn, and over-reliance on sub-optimal trajectories can make it hard for the\\nagent to improve its performance. To solve these problems we propose a new\\nalgorithm named TD3fG that can smoothly transition from learning from experts\\nto learning from experience. Our algorithm achieves good performance in the\\nMUJOCO environment with limited and sub-optimal demonstrations. We use behavior\\ncloning to train the network as a reference action generator and utilize it in\\nterms of both loss function and exploration noise. This innovation can help\\nagents extract a priori knowledge from demonstrations while reducing the\\ndetrimental effects of the poor Markovian properties of the demonstrations. It\\nhas a better performance compared to the BC+ fine-tuning and DDPGfD approach,\\nespecially when the demonstrations are relatively limited. We call our method\\nTD3fG meaning TD3 from a generator.', 'This is a collection of (mostly) pen-and-paper exercises in machine learning.\\nThe exercises are on the following topics: linear algebra, optimisation,\\ndirected graphical models, undirected graphical models, expressive power of\\ngraphical models, factor graphs and message passing, inference for hidden\\nMarkov models, model-based learning (including ICA and unnormalised models),\\nsampling and Monte-Carlo integration, and variational inference.', 'A learning machine, like all machines, is an open system driven far from\\nthermal equilibrium by access to a low entropy source of free energy. We\\ndiscuss the connection between machines that learn, with low probability of\\nerror, and the optimal use of thermodynamic resources for both classical and\\nquantum machines. Both fixed point and spiking perceptrons are discussed in the\\ncontext of possible physical implementations. An example of a single photon\\nquantum kernel evaluation illustrates the important role for quantum coherence\\nin data representation. Machine learning algorithms, implemented on\\nconventional complementary metal oxide semiconductor (CMOS) devices, currently\\nconsume large amounts of energy. By focusing on the physical constraints of\\nlearning machines rather than algorithms, we suggest that a more efficient\\nmeans of implementing learning may be possible based on quantum switches\\noperating at very low power. Single photon kernel evaluation is an example of\\nthe energy efficiency that might be possible.', \"We propose a novel approach for planning agents to compose abstract skills\\nvia observing and learning from historical interactions with the world. Our\\nframework operates in a Markov state-space model via a set of actions under\\nunknown pre-conditions. We formulate skills as high-level abstract policies\\nthat propose action plans based on the current state. Each policy learns new\\nplans by observing the states' transitions while the agent interacts with the\\nworld. Such an approach automatically learns new plans to achieve specific\\nintended effects, but the success of such plans is often dependent on the\\nstates in which they are applicable. Therefore, we formulate the evaluation of\\nsuch plans as infinitely many multi-armed bandit problems, where we balance the\\nallocation of resources on evaluating the success probability of existing arms\\nand exploring new options. The result is a planner capable of automatically\\nlearning robust high-level skills under a noisy environment; such skills\\nimplicitly learn the action pre-condition without explicit knowledge. We show\\nthat this planning approach is experimentally very competitive in\\nhigh-dimensional state space domains.\"]\n"
     ]
    }
   ],
   "source": [
    "res_titles = [ titles[I[0][i]] for i in range(5) ]\n",
    "res_authors = [ authors[I[0][i]] for i in range(5) ]\n",
    "res_years = [ years[I[0][i]] for i in range(5) ]\n",
    "res_summary = [ summary[I[0][i]] for i in range(5) ]\n",
    "\n",
    "\n",
    "\n",
    "print(res_titles)\n",
    "print(res_authors)\n",
    "print(res_years)\n",
    "print(res_summary)"
   ]
  },
  {
   "cell_type": "code",
   "execution_count": null,
   "metadata": {},
   "outputs": [],
   "source": []
  },
  {
   "cell_type": "code",
   "execution_count": null,
   "metadata": {},
   "outputs": [],
   "source": []
  },
  {
   "attachments": {},
   "cell_type": "markdown",
   "metadata": {},
   "source": [
    "----"
   ]
  },
  {
   "cell_type": "code",
   "execution_count": 5,
   "metadata": {},
   "outputs": [
    {
     "name": "stdout",
     "output_type": "stream",
     "text": [
      "Running on local URL:  http://127.0.0.1:7860\n",
      "\n",
      "To create a public link, set `share=True` in `launch()`.\n"
     ]
    },
    {
     "data": {
      "text/html": [
       "<div><iframe src=\"http://127.0.0.1:7860/\" width=\"900\" height=\"500\" allow=\"autoplay; camera; microphone; clipboard-read; clipboard-write;\" frameborder=\"0\" allowfullscreen></iframe></div>"
      ],
      "text/plain": [
       "<IPython.core.display.HTML object>"
      ]
     },
     "metadata": {},
     "output_type": "display_data"
    },
    {
     "data": {
      "text/plain": [
       "(<gradio.routes.App at 0x7fdea26c2ca0>, 'http://127.0.0.1:7860/', None)"
      ]
     },
     "execution_count": 5,
     "metadata": {},
     "output_type": "execute_result"
    }
   ],
   "source": [
    "import gradio as gr\n",
    "\n",
    "iface = gr.Interface(\n",
    "    fn=retrieve,\n",
    "    inputs = gr.inputs.Textbox(lines=1, placeholder=\"Enter Query...\", label=\"Query text\"),\n",
    "    outputs = [\n",
    "        gr.outputs.Textbox(label=\"Title\"),\n",
    "        gr.outputs.Textbox(label=\"Author\"),\n",
    "        gr.outputs.Textbox(label=\"Year\"),\n",
    "        gr.outputs.Textbox(label=\"Summary\")\n",
    "    ]\n",
    ")\n",
    "\n",
    "iface.launch(inline=True, share=False)"
   ]
  }
 ],
 "metadata": {
  "kernelspec": {
   "display_name": "Python 3.9.12 ('nlp')",
   "language": "python",
   "name": "python3"
  },
  "language_info": {
   "codemirror_mode": {
    "name": "ipython",
    "version": 3
   },
   "file_extension": ".py",
   "mimetype": "text/x-python",
   "name": "python",
   "nbconvert_exporter": "python",
   "pygments_lexer": "ipython3",
   "version": "3.9.12"
  },
  "orig_nbformat": 4,
  "vscode": {
   "interpreter": {
    "hash": "4524e0aa81b3ae16e25dcf9b33e91112c133dfc9ef43cc517d5da5b8fe0f3eee"
   }
  }
 },
 "nbformat": 4,
 "nbformat_minor": 2
}
