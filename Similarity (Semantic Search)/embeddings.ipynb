{
 "cells": [
  {
   "cell_type": "code",
   "execution_count": 1,
   "metadata": {},
   "outputs": [],
   "source": [
    "path = 'titles.csv'"
   ]
  },
  {
   "cell_type": "code",
   "execution_count": 2,
   "metadata": {},
   "outputs": [],
   "source": [
    "import warnings\n",
    "warnings.filterwarnings('ignore')\n",
    "\n",
    "import pandas as pd\n",
    "from sentence_transformers import SentenceTransformer, util\n",
    "\n"
   ]
  },
  {
   "cell_type": "code",
   "execution_count": 5,
   "metadata": {},
   "outputs": [
    {
     "data": {
      "text/html": [
       "<div>\n",
       "<style scoped>\n",
       "    .dataframe tbody tr th:only-of-type {\n",
       "        vertical-align: middle;\n",
       "    }\n",
       "\n",
       "    .dataframe tbody tr th {\n",
       "        vertical-align: top;\n",
       "    }\n",
       "\n",
       "    .dataframe thead th {\n",
       "        text-align: right;\n",
       "    }\n",
       "</style>\n",
       "<table border=\"1\" class=\"dataframe\">\n",
       "  <thead>\n",
       "    <tr style=\"text-align: right;\">\n",
       "      <th></th>\n",
       "      <th>title</th>\n",
       "    </tr>\n",
       "  </thead>\n",
       "  <tbody>\n",
       "    <tr>\n",
       "      <th>0</th>\n",
       "      <td>Solving QBF Instances with Nested SAT Solvers.</td>\n",
       "    </tr>\n",
       "    <tr>\n",
       "      <th>1</th>\n",
       "      <td>Multiscale Manifold Learning.</td>\n",
       "    </tr>\n",
       "    <tr>\n",
       "      <th>2</th>\n",
       "      <td>Online Transfer Learning for Differential Diag...</td>\n",
       "    </tr>\n",
       "    <tr>\n",
       "      <th>3</th>\n",
       "      <td>Logic Programming in Assumption-Based Argument...</td>\n",
       "    </tr>\n",
       "    <tr>\n",
       "      <th>4</th>\n",
       "      <td>Role-Aware Conformity Modeling and Analysis in...</td>\n",
       "    </tr>\n",
       "  </tbody>\n",
       "</table>\n",
       "</div>"
      ],
      "text/plain": [
       "                                               title\n",
       "0     Solving QBF Instances with Nested SAT Solvers.\n",
       "1                      Multiscale Manifold Learning.\n",
       "2  Online Transfer Learning for Differential Diag...\n",
       "3  Logic Programming in Assumption-Based Argument...\n",
       "4  Role-Aware Conformity Modeling and Analysis in..."
      ]
     },
     "execution_count": 5,
     "metadata": {},
     "output_type": "execute_result"
    }
   ],
   "source": [
    "x = pd.read_csv(path)\n",
    "x.head()"
   ]
  },
  {
   "cell_type": "code",
   "execution_count": 6,
   "metadata": {},
   "outputs": [
    {
     "data": {
      "text/html": [
       "<div>\n",
       "<style scoped>\n",
       "    .dataframe tbody tr th:only-of-type {\n",
       "        vertical-align: middle;\n",
       "    }\n",
       "\n",
       "    .dataframe tbody tr th {\n",
       "        vertical-align: top;\n",
       "    }\n",
       "\n",
       "    .dataframe thead th {\n",
       "        text-align: right;\n",
       "    }\n",
       "</style>\n",
       "<table border=\"1\" class=\"dataframe\">\n",
       "  <thead>\n",
       "    <tr style=\"text-align: right;\">\n",
       "      <th></th>\n",
       "      <th>title</th>\n",
       "      <th>clean</th>\n",
       "    </tr>\n",
       "  </thead>\n",
       "  <tbody>\n",
       "    <tr>\n",
       "      <th>119441</th>\n",
       "      <td>A Case Study on the Use of Semantic Web Techno...</td>\n",
       "      <td>a case study on the use of semantic web techno...</td>\n",
       "    </tr>\n",
       "    <tr>\n",
       "      <th>119444</th>\n",
       "      <td>An Application Framework for Delivering Multim...</td>\n",
       "      <td>an application framework for delivering multim...</td>\n",
       "    </tr>\n",
       "    <tr>\n",
       "      <th>119445</th>\n",
       "      <td>Newspaper editors vs the crowd: on the appropr...</td>\n",
       "      <td>newspaper editors vs the crowd on the appropri...</td>\n",
       "    </tr>\n",
       "    <tr>\n",
       "      <th>119448</th>\n",
       "      <td>Patch-based skin color detection and its appli...</td>\n",
       "      <td>patchbased skin color detection and its applic...</td>\n",
       "    </tr>\n",
       "    <tr>\n",
       "      <th>119449</th>\n",
       "      <td>Detecting image spam using local invariant fea...</td>\n",
       "      <td>detecting image spam using local invariant fea...</td>\n",
       "    </tr>\n",
       "  </tbody>\n",
       "</table>\n",
       "</div>"
      ],
      "text/plain": [
       "                                                    title  \\\n",
       "119441  A Case Study on the Use of Semantic Web Techno...   \n",
       "119444  An Application Framework for Delivering Multim...   \n",
       "119445  Newspaper editors vs the crowd: on the appropr...   \n",
       "119448  Patch-based skin color detection and its appli...   \n",
       "119449  Detecting image spam using local invariant fea...   \n",
       "\n",
       "                                                    clean  \n",
       "119441  a case study on the use of semantic web techno...  \n",
       "119444  an application framework for delivering multim...  \n",
       "119445  newspaper editors vs the crowd on the appropri...  \n",
       "119448  patchbased skin color detection and its applic...  \n",
       "119449  detecting image spam using local invariant fea...  "
      ]
     },
     "execution_count": 6,
     "metadata": {},
     "output_type": "execute_result"
    }
   ],
   "source": [
    "x = x[x['title'].str.split().str.len() > 10]        # remove short titles (less than 10 words)\n",
    "\n",
    "x['clean'] = x['title'].str.replace('\\d+', '')\n",
    "x['clean'] = x['clean'].str.replace('[^\\w\\s]', '')\n",
    "x['clean'] = x['clean'].str.lower()\n",
    "x.tail()\n"
   ]
  },
  {
   "cell_type": "code",
   "execution_count": 8,
   "metadata": {},
   "outputs": [
    {
     "data": {
      "text/html": [
       "<div>\n",
       "<style scoped>\n",
       "    .dataframe tbody tr th:only-of-type {\n",
       "        vertical-align: middle;\n",
       "    }\n",
       "\n",
       "    .dataframe tbody tr th {\n",
       "        vertical-align: top;\n",
       "    }\n",
       "\n",
       "    .dataframe thead th {\n",
       "        text-align: right;\n",
       "    }\n",
       "</style>\n",
       "<table border=\"1\" class=\"dataframe\">\n",
       "  <thead>\n",
       "    <tr style=\"text-align: right;\">\n",
       "      <th></th>\n",
       "      <th>title</th>\n",
       "      <th>clean</th>\n",
       "    </tr>\n",
       "  </thead>\n",
       "  <tbody>\n",
       "    <tr>\n",
       "      <th>24464</th>\n",
       "      <td>A Case Study on the Use of Semantic Web Techno...</td>\n",
       "      <td>a case study on the use of semantic web techno...</td>\n",
       "    </tr>\n",
       "    <tr>\n",
       "      <th>24465</th>\n",
       "      <td>An Application Framework for Delivering Multim...</td>\n",
       "      <td>an application framework for delivering multim...</td>\n",
       "    </tr>\n",
       "    <tr>\n",
       "      <th>24466</th>\n",
       "      <td>Newspaper editors vs the crowd: on the appropr...</td>\n",
       "      <td>newspaper editors vs the crowd on the appropri...</td>\n",
       "    </tr>\n",
       "    <tr>\n",
       "      <th>24467</th>\n",
       "      <td>Patch-based skin color detection and its appli...</td>\n",
       "      <td>patchbased skin color detection and its applic...</td>\n",
       "    </tr>\n",
       "    <tr>\n",
       "      <th>24468</th>\n",
       "      <td>Detecting image spam using local invariant fea...</td>\n",
       "      <td>detecting image spam using local invariant fea...</td>\n",
       "    </tr>\n",
       "  </tbody>\n",
       "</table>\n",
       "</div>"
      ],
      "text/plain": [
       "                                                   title  \\\n",
       "24464  A Case Study on the Use of Semantic Web Techno...   \n",
       "24465  An Application Framework for Delivering Multim...   \n",
       "24466  Newspaper editors vs the crowd: on the appropr...   \n",
       "24467  Patch-based skin color detection and its appli...   \n",
       "24468  Detecting image spam using local invariant fea...   \n",
       "\n",
       "                                                   clean  \n",
       "24464  a case study on the use of semantic web techno...  \n",
       "24465  an application framework for delivering multim...  \n",
       "24466  newspaper editors vs the crowd on the appropri...  \n",
       "24467  patchbased skin color detection and its applic...  \n",
       "24468  detecting image spam using local invariant fea...  "
      ]
     },
     "execution_count": 8,
     "metadata": {},
     "output_type": "execute_result"
    }
   ],
   "source": [
    "# reset index\n",
    "x = x.reset_index(drop=True)\n",
    "x.tail()"
   ]
  },
  {
   "cell_type": "code",
   "execution_count": 9,
   "metadata": {},
   "outputs": [
    {
     "name": "stdout",
     "output_type": "stream",
     "text": [
      "SentenceTransformer(\n",
      "  (0): Transformer({'max_seq_length': 512, 'do_lower_case': False}) with Transformer model: BertModel \n",
      "  (1): Pooling({'word_embedding_dimension': 384, 'pooling_mode_cls_token': False, 'pooling_mode_mean_tokens': True, 'pooling_mode_max_tokens': False, 'pooling_mode_mean_sqrt_len_tokens': False})\n",
      "  (2): Normalize()\n",
      ")\n"
     ]
    }
   ],
   "source": [
    "model = SentenceTransformer('sentence-transformers/multi-qa-MiniLM-L6-cos-v1')\n",
    "# print moel parameters\n",
    "print(model)"
   ]
  },
  {
   "cell_type": "code",
   "execution_count": 10,
   "metadata": {},
   "outputs": [],
   "source": [
    "# add embeddings to dataframe\n",
    "x['embeddings'] = x['clean'].apply(lambda x: model.encode(x))"
   ]
  },
  {
   "cell_type": "code",
   "execution_count": 11,
   "metadata": {},
   "outputs": [
    {
     "data": {
      "text/html": [
       "<div>\n",
       "<style scoped>\n",
       "    .dataframe tbody tr th:only-of-type {\n",
       "        vertical-align: middle;\n",
       "    }\n",
       "\n",
       "    .dataframe tbody tr th {\n",
       "        vertical-align: top;\n",
       "    }\n",
       "\n",
       "    .dataframe thead th {\n",
       "        text-align: right;\n",
       "    }\n",
       "</style>\n",
       "<table border=\"1\" class=\"dataframe\">\n",
       "  <thead>\n",
       "    <tr style=\"text-align: right;\">\n",
       "      <th></th>\n",
       "      <th>title</th>\n",
       "      <th>clean</th>\n",
       "      <th>embeddings</th>\n",
       "    </tr>\n",
       "  </thead>\n",
       "  <tbody>\n",
       "    <tr>\n",
       "      <th>0</th>\n",
       "      <td>Logic Programming in Assumption-Based Argument...</td>\n",
       "      <td>logic programming in assumptionbased argumenta...</td>\n",
       "      <td>[-0.023969512, 0.010221153, 0.0005422938, -0.0...</td>\n",
       "    </tr>\n",
       "    <tr>\n",
       "      <th>1</th>\n",
       "      <td>Modeling and Mining Spatiotemporal Patterns of...</td>\n",
       "      <td>modeling and mining spatiotemporal patterns of...</td>\n",
       "      <td>[0.0034898794, -0.0044532777, -0.053476732, -0...</td>\n",
       "    </tr>\n",
       "    <tr>\n",
       "      <th>2</th>\n",
       "      <td>Mitosis Detection in Breast Cancer Histology I...</td>\n",
       "      <td>mitosis detection in breast cancer histology i...</td>\n",
       "      <td>[0.013757976, -0.00069692935, 0.022236006, -0....</td>\n",
       "    </tr>\n",
       "    <tr>\n",
       "      <th>3</th>\n",
       "      <td>Towards Population Scale Activity Recognition:...</td>\n",
       "      <td>towards population scale activity recognition ...</td>\n",
       "      <td>[0.06615189, 0.014459885, -0.035167716, -0.081...</td>\n",
       "    </tr>\n",
       "    <tr>\n",
       "      <th>4</th>\n",
       "      <td>A Platform to Evaluate the Technology for Serv...</td>\n",
       "      <td>a platform to evaluate the technology for serv...</td>\n",
       "      <td>[-0.0020297964, -0.03787091, -0.046355557, -0....</td>\n",
       "    </tr>\n",
       "  </tbody>\n",
       "</table>\n",
       "</div>"
      ],
      "text/plain": [
       "                                               title  \\\n",
       "0  Logic Programming in Assumption-Based Argument...   \n",
       "1  Modeling and Mining Spatiotemporal Patterns of...   \n",
       "2  Mitosis Detection in Breast Cancer Histology I...   \n",
       "3  Towards Population Scale Activity Recognition:...   \n",
       "4  A Platform to Evaluate the Technology for Serv...   \n",
       "\n",
       "                                               clean  \\\n",
       "0  logic programming in assumptionbased argumenta...   \n",
       "1  modeling and mining spatiotemporal patterns of...   \n",
       "2  mitosis detection in breast cancer histology i...   \n",
       "3  towards population scale activity recognition ...   \n",
       "4  a platform to evaluate the technology for serv...   \n",
       "\n",
       "                                          embeddings  \n",
       "0  [-0.023969512, 0.010221153, 0.0005422938, -0.0...  \n",
       "1  [0.0034898794, -0.0044532777, -0.053476732, -0...  \n",
       "2  [0.013757976, -0.00069692935, 0.022236006, -0....  \n",
       "3  [0.06615189, 0.014459885, -0.035167716, -0.081...  \n",
       "4  [-0.0020297964, -0.03787091, -0.046355557, -0....  "
      ]
     },
     "execution_count": 11,
     "metadata": {},
     "output_type": "execute_result"
    }
   ],
   "source": [
    "x.head()"
   ]
  },
  {
   "cell_type": "code",
   "execution_count": 12,
   "metadata": {},
   "outputs": [],
   "source": [
    "x.to_csv('titles_embeddings.csv', index=False)"
   ]
  },
  {
   "cell_type": "code",
   "execution_count": 17,
   "metadata": {},
   "outputs": [],
   "source": [
    "titles = x['title'].tolist()\n",
    "embeddings = x['embeddings'].tolist()\n",
    "\n",
    "# save titles and embeddings to disk\n",
    "import pickle\n",
    "with open('titles.pkl', 'wb') as f:\n",
    "    pickle.dump(titles, f)\n",
    "\n",
    "with open('embeddings.pkl', 'wb') as f:\n",
    "    pickle.dump(embeddings, f)"
   ]
  },
  {
   "cell_type": "code",
   "execution_count": 19,
   "metadata": {},
   "outputs": [
    {
     "name": "stdout",
     "output_type": "stream",
     "text": [
      "<class 'list'>\n",
      "24469\n",
      "<class 'list'>\n",
      "24469\n"
     ]
    }
   ],
   "source": [
    "# load titles and embeddings from disk \n",
    "with open('titles.pkl', 'rb') as f:\n",
    "    ltitles = pickle.load(f)\n",
    "    print(type(titles))\n",
    "    print(len(titles))\n",
    "\n",
    "with open('embeddings.pkl', 'rb') as f:\n",
    "    lembeddings = pickle.load(f)\n",
    "    print(type(embeddings))\n",
    "    print(len(embeddings))"
   ]
  },
  {
   "cell_type": "code",
   "execution_count": 20,
   "metadata": {},
   "outputs": [
    {
     "data": {
      "text/html": [
       "<div>\n",
       "<style scoped>\n",
       "    .dataframe tbody tr th:only-of-type {\n",
       "        vertical-align: middle;\n",
       "    }\n",
       "\n",
       "    .dataframe tbody tr th {\n",
       "        vertical-align: top;\n",
       "    }\n",
       "\n",
       "    .dataframe thead th {\n",
       "        text-align: right;\n",
       "    }\n",
       "</style>\n",
       "<table border=\"1\" class=\"dataframe\">\n",
       "  <thead>\n",
       "    <tr style=\"text-align: right;\">\n",
       "      <th></th>\n",
       "      <th>titles</th>\n",
       "      <th>embeddings</th>\n",
       "    </tr>\n",
       "  </thead>\n",
       "  <tbody>\n",
       "    <tr>\n",
       "      <th>0</th>\n",
       "      <td>Logic Programming in Assumption-Based Argument...</td>\n",
       "      <td>[-0.023969512, 0.010221153, 0.0005422938, -0.0...</td>\n",
       "    </tr>\n",
       "    <tr>\n",
       "      <th>1</th>\n",
       "      <td>Modeling and Mining Spatiotemporal Patterns of...</td>\n",
       "      <td>[0.0034898794, -0.0044532777, -0.053476732, -0...</td>\n",
       "    </tr>\n",
       "    <tr>\n",
       "      <th>2</th>\n",
       "      <td>Mitosis Detection in Breast Cancer Histology I...</td>\n",
       "      <td>[0.013757976, -0.00069692935, 0.022236006, -0....</td>\n",
       "    </tr>\n",
       "    <tr>\n",
       "      <th>3</th>\n",
       "      <td>Towards Population Scale Activity Recognition:...</td>\n",
       "      <td>[0.06615189, 0.014459885, -0.035167716, -0.081...</td>\n",
       "    </tr>\n",
       "    <tr>\n",
       "      <th>4</th>\n",
       "      <td>A Platform to Evaluate the Technology for Serv...</td>\n",
       "      <td>[-0.0020297964, -0.03787091, -0.046355557, -0....</td>\n",
       "    </tr>\n",
       "  </tbody>\n",
       "</table>\n",
       "</div>"
      ],
      "text/plain": [
       "                                              titles  \\\n",
       "0  Logic Programming in Assumption-Based Argument...   \n",
       "1  Modeling and Mining Spatiotemporal Patterns of...   \n",
       "2  Mitosis Detection in Breast Cancer Histology I...   \n",
       "3  Towards Population Scale Activity Recognition:...   \n",
       "4  A Platform to Evaluate the Technology for Serv...   \n",
       "\n",
       "                                          embeddings  \n",
       "0  [-0.023969512, 0.010221153, 0.0005422938, -0.0...  \n",
       "1  [0.0034898794, -0.0044532777, -0.053476732, -0...  \n",
       "2  [0.013757976, -0.00069692935, 0.022236006, -0....  \n",
       "3  [0.06615189, 0.014459885, -0.035167716, -0.081...  \n",
       "4  [-0.0020297964, -0.03787091, -0.046355557, -0....  "
      ]
     },
     "execution_count": 20,
     "metadata": {},
     "output_type": "execute_result"
    }
   ],
   "source": [
    "df2 = pd.DataFrame({'titles': ltitles, 'embeddings': lembeddings})\n",
    "df2.head()"
   ]
  }
 ],
 "metadata": {
  "kernelspec": {
   "display_name": "Python 3.9.12 ('nlp')",
   "language": "python",
   "name": "python3"
  },
  "language_info": {
   "codemirror_mode": {
    "name": "ipython",
    "version": 3
   },
   "file_extension": ".py",
   "mimetype": "text/x-python",
   "name": "python",
   "nbconvert_exporter": "python",
   "pygments_lexer": "ipython3",
   "version": "3.9.12"
  },
  "orig_nbformat": 4,
  "vscode": {
   "interpreter": {
    "hash": "4524e0aa81b3ae16e25dcf9b33e91112c133dfc9ef43cc517d5da5b8fe0f3eee"
   }
  }
 },
 "nbformat": 4,
 "nbformat_minor": 2
}
