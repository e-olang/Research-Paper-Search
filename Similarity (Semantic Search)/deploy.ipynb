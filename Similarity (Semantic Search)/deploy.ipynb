{
 "cells": [
  {
   "cell_type": "code",
   "execution_count": 1,
   "metadata": {},
   "outputs": [],
   "source": [
    "import pickle\n",
    "import numpy as np\n",
    "import json\n",
    "from sentence_transformers import SentenceTransformer\n",
    "\n",
    "import warnings\n",
    "warnings.filterwarnings('ignore')\n"
   ]
  },
  {
   "cell_type": "code",
   "execution_count": 6,
   "metadata": {},
   "outputs": [
    {
     "name": "stdout",
     "output_type": "stream",
     "text": [
      "1.21.5\n",
      "2.0.9\n"
     ]
    },
    {
     "ename": "AttributeError",
     "evalue": "type object 'SentenceTransformer' has no attribute '__version__'",
     "output_type": "error",
     "traceback": [
      "\u001b[0;31m---------------------------------------------------------------------------\u001b[0m",
      "\u001b[0;31mAttributeError\u001b[0m                            Traceback (most recent call last)",
      "\u001b[1;32m/Users/olang/Desktop/*/Projects/Semantic-Search/Similarity (Semantic Search)/deploy.ipynb Cell 2\u001b[0m in \u001b[0;36m<cell line: 3>\u001b[0;34m()\u001b[0m\n\u001b[1;32m      <a href='vscode-notebook-cell:/Users/olang/Desktop/%2A/Projects/Semantic-Search/Similarity%20%28Semantic%20Search%29/deploy.ipynb#X22sZmlsZQ%3D%3D?line=0'>1</a>\u001b[0m \u001b[39mprint\u001b[39m(np\u001b[39m.\u001b[39m__version__)\n\u001b[1;32m      <a href='vscode-notebook-cell:/Users/olang/Desktop/%2A/Projects/Semantic-Search/Similarity%20%28Semantic%20Search%29/deploy.ipynb#X22sZmlsZQ%3D%3D?line=1'>2</a>\u001b[0m \u001b[39mprint\u001b[39m(json\u001b[39m.\u001b[39m__version__)\n\u001b[0;32m----> <a href='vscode-notebook-cell:/Users/olang/Desktop/%2A/Projects/Semantic-Search/Similarity%20%28Semantic%20Search%29/deploy.ipynb#X22sZmlsZQ%3D%3D?line=2'>3</a>\u001b[0m \u001b[39mprint\u001b[39m(SentenceTransformer\u001b[39m.\u001b[39;49m__version__)\n",
      "\u001b[0;31mAttributeError\u001b[0m: type object 'SentenceTransformer' has no attribute '__version__'"
     ]
    }
   ],
   "source": [
    "print(np.__version__)\n",
    "print(json.__version__)\n",
    "print(SentenceTransformer.__version__)"
   ]
  },
  {
   "cell_type": "code",
   "execution_count": 2,
   "metadata": {},
   "outputs": [],
   "source": [
    "with open('Files/titles.pkl', 'rb') as f:\n",
    "    titles = pickle.load(f)\n",
    "\n",
    "with open('Files/embeddings.pkl', 'rb') as f:\n",
    "    embeddings = pickle.load(f)\n",
    "\n",
    "with open('Files/authors.pkl', 'rb') as f:\n",
    "    authors = pickle.load(f)\n",
    "\n",
    "with open('Files/years.pkl', 'rb') as f:\n",
    "    years = pickle.load(f)\n",
    "\n",
    "with open('Files/summary.pkl', 'rb') as f:\n",
    "    summary = pickle.load(f)\n",
    "\n",
    "index = pickle.load(open('Files/index.sav' , 'rb'))\n",
    "\n",
    "#model = pickle.load(open('Files/model.sav' , 'rb'))\n",
    "model = SentenceTransformer('sentence-transformers/multi-qa-MiniLM-L6-cos-v1')"
   ]
  },
  {
   "cell_type": "code",
   "execution_count": 9,
   "metadata": {},
   "outputs": [],
   "source": [
    "# simple query to return the first 5 similar documents (Titles, Authors, Years, Summary)\n",
    "\n",
    "def retrieve(query, k=5):\n",
    "    xq = model.encode([query])\n",
    "    D, I = index.search(xq, k)\n",
    "\n",
    "    results = []\n",
    "    for i in range(k):\n",
    "        results.append(\n",
    "            { \n",
    "                'Title': titles[I[0][i]],\n",
    "                'Author': authors[I[0][i]],\n",
    "                'Year': years[I[0][i]],\n",
    "                'Summary': summary[I[0][i]]\n",
    "            }\n",
    "        )\n",
    "\n",
    "    return results"
   ]
  },
  {
   "cell_type": "code",
   "execution_count": null,
   "metadata": {},
   "outputs": [],
   "source": [
    "# testing 😀\n",
    "query = 'What is the best way to learn Python?'\n",
    "results = retrieve(query)\n",
    "print(results)"
   ]
  },
  {
   "cell_type": "markdown",
   "metadata": {},
   "source": [
    "----"
   ]
  },
  {
   "cell_type": "code",
   "execution_count": 13,
   "metadata": {},
   "outputs": [],
   "source": [
    "def write_json(data):\n",
    "    base_path = 'Sample_jsons/'\n",
    "    excportpath = base_path + 'excport.json'\n",
    "    with open(excportpath, 'w') as f:\n",
    "        json.dump(data, f)\n",
    "    \n",
    "    print('JSON file created successfully')\n",
    "    return excportpath\n",
    "\n",
    "# testing 😀\n",
    "write_json(results)"
   ]
  },
  {
   "cell_type": "markdown",
   "metadata": {},
   "source": [
    "-------"
   ]
  },
  {
   "cell_type": "code",
   "execution_count": null,
   "metadata": {},
   "outputs": [],
   "source": [
    "# write list of dictionaries to json file\n",
    "with open('results.json', 'w') as f:\n",
    "    json.dump(results, f)"
   ]
  },
  {
   "cell_type": "markdown",
   "metadata": {},
   "source": [
    "----\n",
    "## Gardio app"
   ]
  },
  {
   "cell_type": "code",
   "execution_count": 10,
   "metadata": {},
   "outputs": [],
   "source": [
    "import gradio as gr\n",
    "\n",
    "interface = gr.Interface(\n",
    "    fn=retrieve,\n",
    "    inputs = gr.inputs.Textbox(lines=1, placeholder=\"Enter Query...\", label=\"Query text\"),\n",
    "    # a json output with 4 keys: titles, authors, years, summary\n",
    "    outputs = gr.outputs.JSON(label=\"Similar Documents\"),\n",
    "    title=\"Semantic Search\",\n",
    "    description=\"Search for similar documents using semantic search.\",\n",
    "    allow_flagging=False,\n",
    "    examples=[\n",
    "        [\"Mathematical models of the spread of infectious diseases in humans and animals\"],\n",
    "        [\"A new method for solving the nonlinear eigenvalue problem\"]\n",
    "    ]\n",
    ")"
   ]
  },
  {
   "cell_type": "code",
   "execution_count": 11,
   "metadata": {},
   "outputs": [
    {
     "name": "stdout",
     "output_type": "stream",
     "text": [
      "Running on local URL:  http://127.0.0.1:7862\n",
      "\n",
      "To create a public link, set `share=True` in `launch()`.\n"
     ]
    },
    {
     "data": {
      "text/html": [
       "<div><iframe src=\"http://127.0.0.1:7862/\" width=\"900\" height=\"500\" allow=\"autoplay; camera; microphone; clipboard-read; clipboard-write;\" frameborder=\"0\" allowfullscreen></iframe></div>"
      ],
      "text/plain": [
       "<IPython.core.display.HTML object>"
      ]
     },
     "metadata": {},
     "output_type": "display_data"
    },
    {
     "data": {
      "text/plain": [
       "(<gradio.routes.App at 0x7febc6ad48e0>, 'http://127.0.0.1:7862/', None)"
      ]
     },
     "execution_count": 11,
     "metadata": {},
     "output_type": "execute_result"
    }
   ],
   "source": [
    "interface.launch(inline=True, inbrowser=False)"
   ]
  },
  {
   "cell_type": "markdown",
   "metadata": {},
   "source": [
    "## Reserves"
   ]
  },
  {
   "cell_type": "code",
   "execution_count": null,
   "metadata": {},
   "outputs": [],
   "source": [
    "##"
   ]
  },
  {
   "cell_type": "markdown",
   "metadata": {},
   "source": [
    "\n",
    "```python\n",
    "\n",
    "def retrieve(query, k=5):\n",
    "    xq = model.encode([query])\n",
    "    D, I = index.search(xq, k)\n",
    "\n",
    "    results = {'titles': [], 'authors': [], 'years': [], 'summary': []}\n",
    "    for i in range(k):\n",
    "        results['titles'].append(titles[I[0][i]])\n",
    "        results['authors'].append(authors[I[0][i]])\n",
    "        results['years'].append(years[I[0][i]])\n",
    "        results['summary'].append(summary[I[0][i]])\n",
    "    \n",
    "    return results\n",
    "    #return [titles[i] for i in I[0]], [authors[i] for i in I[0]], [years[i] for i in I[0]], [summary[i] for i in I[0]]\n",
    "\n",
    "\n",
    "for i in range(len(results['titles'])):\n",
    "    print(results['titles'][i])\n",
    "    print(results['authors'][i])\n",
    "    print(results['years'][i])\n",
    "    print(results['summary'][i])\n",
    "    print('----------------------------------------' * 2)\n",
    "\n",
    "\n",
    "# write each item in the list to a json file on new line\n",
    "with open('results2.json', 'w') as f:\n",
    "    for item in results:\n",
    "        json.dump(item, f)\n",
    "        f.write('\\n' % item)\n",
    "\n",
    "\n",
    "# simple query to return the first 5 similar documents (Titles, Authors, Years, Summary)\n",
    "def retrieve(query, k=5):\n",
    "    xq = model.encode([query])\n",
    "    D, I = index.search(xq, k)\n",
    "\n",
    "    results = {'Result 1': [], 'Result 2': [], 'Result 3': [], 'Result 4': [], 'Result 5': []}\n",
    "    for i in range(k):\n",
    "        results['Result '+str(i+1)].append(titles[I[0][i]])\n",
    "        results['Result '+str(i+1)].append(authors[I[0][i]])\n",
    "        results['Result '+str(i+1)].append(years[I[0][i]])\n",
    "        results['Result '+str(i+1)].append(summary[I[0][i]])\n",
    "    return results\n",
    "\n",
    "\n",
    "## Draft for json output\n",
    "k = 5 # number of similar documents to return\n",
    "xq = model.encode(['Africa Technology'])\n",
    "D, I = index.search(xq, k)\n",
    "\n",
    "# store all dictionaries in a list\n",
    "results = []\n",
    "\n",
    "for i in range(k):\n",
    "    results.append({\n",
    "        'Title': titles[I[0][i]],\n",
    "        'Author': authors[I[0][i]],\n",
    "        'Year': years[I[0][i]],\n",
    "        'Summary': summary[I[0][i]]\n",
    "    })\n",
    "\n",
    "# write list of dictionaries to json file\n",
    "with open('results3.json', 'w') as f:\n",
    "    json.dump(results, f)\n",
    "\n",
    "```"
   ]
  },
  {
   "cell_type": "markdown",
   "metadata": {},
   "source": []
  }
 ],
 "metadata": {
  "kernelspec": {
   "display_name": "Python 3.9.12 ('nlp')",
   "language": "python",
   "name": "python3"
  },
  "language_info": {
   "codemirror_mode": {
    "name": "ipython",
    "version": 3
   },
   "file_extension": ".py",
   "mimetype": "text/x-python",
   "name": "python",
   "nbconvert_exporter": "python",
   "pygments_lexer": "ipython3",
   "version": "3.9.12"
  },
  "orig_nbformat": 4,
  "vscode": {
   "interpreter": {
    "hash": "4524e0aa81b3ae16e25dcf9b33e91112c133dfc9ef43cc517d5da5b8fe0f3eee"
   }
  }
 },
 "nbformat": 4,
 "nbformat_minor": 2
}
